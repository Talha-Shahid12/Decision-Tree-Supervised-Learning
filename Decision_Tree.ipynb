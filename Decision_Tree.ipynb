{
 "cells": [
  {
   "cell_type": "code",
   "execution_count": null,
   "id": "f4aec69d-920d-49cb-9aad-aa4f222f916c",
   "metadata": {},
   "outputs": [],
   "source": [
    "import pandas as pd\n",
    "df = pd.read_csv('titanic.csv')\n",
    "df.head()"
   ]
  },
  {
   "cell_type": "code",
   "execution_count": 14,
   "id": "a1609e91-1d9b-47ce-8a74-975a25a4fa66",
   "metadata": {},
   "outputs": [],
   "source": [
    "inputs = df.drop(['PassengerId','Survived','Name','SibSp','Parch','Ticket','Cabin','Embarked'], axis = 'columns')"
   ]
  },
  {
   "cell_type": "code",
   "execution_count": 15,
   "id": "ca62e821-11db-4f59-a0ce-d544bd4dbff6",
   "metadata": {},
   "outputs": [],
   "source": [
    "target = df.drop(['PassengerId','Pclass','Name','Sex','Age','SibSp','Parch','Ticket','Fare','Cabin','Embarked'], axis = 'columns')"
   ]
  },
  {
   "cell_type": "code",
   "execution_count": 19,
   "id": "6bf592c0-5c28-4b26-860f-01e1749113ad",
   "metadata": {},
   "outputs": [],
   "source": [
    "from sklearn.preprocessing import LabelEncoder"
   ]
  },
  {
   "cell_type": "code",
   "execution_count": 20,
   "id": "73acc8d1-7782-46f7-8753-a7c1932bbc52",
   "metadata": {},
   "outputs": [],
   "source": [
    "le_Pclass = LabelEncoder()\n",
    "le_Sex = LabelEncoder()\n",
    "le_Age = LabelEncoder()\n",
    "le_Fare = LabelEncoder()"
   ]
  },
  {
   "cell_type": "code",
   "execution_count": 26,
   "id": "6db2a8f5-fc21-4ebd-aa3a-cd7d72a53c94",
   "metadata": {},
   "outputs": [],
   "source": [
    "inputs['Pclass_new'] = le_Pclass.fit_transform(inputs['Pclass'])\n",
    "inputs['Sex_new'] = le_Sex.fit_transform(inputs['Sex'])\n",
    "inputs['Age_new'] = le_Age.fit_transform(inputs['Age'])\n",
    "inputs['Fare_new'] = le_Fare.fit_transform(inputs['Fare'])"
   ]
  },
  {
   "cell_type": "code",
   "execution_count": 32,
   "id": "2c1bbc44-46b7-4502-bdcc-36309653fedd",
   "metadata": {},
   "outputs": [],
   "source": [
    "input_new = inputs.drop(['Pclass', 'Sex', 'Age', 'Fare'], axis = 'columns')"
   ]
  },
  {
   "cell_type": "code",
   "execution_count": 34,
   "id": "d16230dc-c046-40ad-bdda-98b6f4db9b1f",
   "metadata": {},
   "outputs": [],
   "source": [
    "from sklearn import tree"
   ]
  },
  {
   "cell_type": "code",
   "execution_count": 58,
   "id": "54794ed3-efbc-4d85-8a85-e355b0f1e6af",
   "metadata": {},
   "outputs": [],
   "source": [
    "model = tree.DecisionTreeClassifier()"
   ]
  },
  {
   "cell_type": "code",
   "execution_count": null,
   "id": "cad07cf6-5bd1-4100-92f4-f98f3283841f",
   "metadata": {},
   "outputs": [],
   "source": [
    "model.fit(input_new, target)"
   ]
  },
  {
   "cell_type": "code",
   "execution_count": null,
   "id": "959a824b-75d6-4c8a-8658-a119f08c51fa",
   "metadata": {},
   "outputs": [],
   "source": [
    "model.predict([[0,0,47,189]])"
   ]
  },
  {
   "cell_type": "code",
   "execution_count": null,
   "id": "4ceb34d3-aa3e-4539-8fc5-2f7ab4f6faf4",
   "metadata": {},
   "outputs": [],
   "source": [
    "model.score(input_new, target)"
   ]
  }
 ],
 "metadata": {
  "kernelspec": {
   "display_name": "Python 3 (ipykernel)",
   "language": "python",
   "name": "python3"
  },
  "language_info": {
   "codemirror_mode": {
    "name": "ipython",
    "version": 3
   },
   "file_extension": ".py",
   "mimetype": "text/x-python",
   "name": "python",
   "nbconvert_exporter": "python",
   "pygments_lexer": "ipython3",
   "version": "3.11.7"
  }
 },
 "nbformat": 4,
 "nbformat_minor": 5
}
